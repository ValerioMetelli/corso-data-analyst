{
 "cells": [
  {
   "cell_type": "code",
   "execution_count": 1,
   "id": "2c54a03d-7e40-464a-a9a6-0aad84037d9c",
   "metadata": {},
   "outputs": [
    {
     "name": "stdout",
     "output_type": "stream",
     "text": [
      "E\n",
      "p\n",
      "i\n",
      "c\n",
      "o\n",
      "d\n",
      "e\n"
     ]
    }
   ],
   "source": [
    "#Esercizio 1: Stampare ogni carattere della stringa, uno su ogni riga, utilizzando un costrutto while.\n",
    "\n",
    "nome_scuola = \"Epicode\"\n",
    "i = 0\n",
    "while i < len(nome_scuola):\n",
    "    print(nome_scuola[i])\n",
    "    i = i +1"
   ]
  },
  {
   "cell_type": "code",
   "execution_count": 2,
   "id": "af9ba5b9-4c6b-4bcc-878c-66f2fb1cc265",
   "metadata": {},
   "outputs": [
    {
     "name": "stdout",
     "output_type": "stream",
     "text": [
      "0\n",
      "1\n",
      "2\n",
      "3\n",
      "4\n",
      "5\n",
      "6\n",
      "7\n",
      "8\n",
      "9\n",
      "10\n",
      "11\n",
      "12\n",
      "13\n",
      "14\n",
      "15\n",
      "16\n",
      "17\n",
      "18\n",
      "19\n",
      "20\n"
     ]
    }
   ],
   "source": [
    "#Esercizio 2: Stampare a video tutti i numeri da 0 a 20 utilizzando il costrutto while.\n",
    "\n",
    "x = 0\n",
    "while x <= 20:\n",
    "    print(x)\n",
    "    x = x + 1\n",
    "    "
   ]
  },
  {
   "cell_type": "code",
   "execution_count": 3,
   "id": "2934067e-c48b-4fb3-86fd-840472435a7e",
   "metadata": {},
   "outputs": [
    {
     "name": "stdout",
     "output_type": "stream",
     "text": [
      "2 ^ 0 = 1\n",
      "2 ^ 1 = 2\n",
      "2 ^ 2 = 4\n",
      "2 ^ 3 = 8\n",
      "2 ^ 4 = 16\n",
      "2 ^ 5 = 32\n",
      "2 ^ 6 = 64\n",
      "2 ^ 7 = 128\n",
      "2 ^ 8 = 256\n",
      "2 ^ 9 = 512\n"
     ]
    }
   ],
   "source": [
    "#Esercizio 3: Calcolare e stampare tutte le prime 10 potenze di 2 (e.g., 2⁰, 2¹, 2², …) utilizzando un ciclo while.\n",
    "\n",
    "esponente = 0\n",
    "base = 2\n",
    "while esponente < 10:\n",
    "    potenza = base ** esponente\n",
    "    print(base,\"^\", esponente, \"=\", potenza)\n",
    "    esponente = esponente + 1"
   ]
  },
  {
   "cell_type": "code",
   "execution_count": 4,
   "id": "2c6f80ee-639e-435a-89e3-faf1a5615ee6",
   "metadata": {},
   "outputs": [
    {
     "name": "stdin",
     "output_type": "stream",
     "text": [
      "Inserire un numero per elevare a potenza il 2: 15\n"
     ]
    },
    {
     "name": "stdout",
     "output_type": "stream",
     "text": [
      "2 ^ 0 = 1\n",
      "2 ^ 1 = 2\n",
      "2 ^ 2 = 4\n",
      "2 ^ 3 = 8\n",
      "2 ^ 4 = 16\n",
      "2 ^ 5 = 32\n",
      "2 ^ 6 = 64\n",
      "2 ^ 7 = 128\n",
      "2 ^ 8 = 256\n",
      "2 ^ 9 = 512\n",
      "2 ^ 10 = 1024\n",
      "2 ^ 11 = 2048\n",
      "2 ^ 12 = 4096\n",
      "2 ^ 13 = 8192\n",
      "2 ^ 14 = 16384\n"
     ]
    }
   ],
   "source": [
    "#Esercizio 4: Calcolare e stampare tutte le prime N potenze di 2 utilizzando un ciclo while, domandando all'utente di inserire N.\n",
    "\n",
    "base = 2\n",
    "N = int(input(\"Inserire un numero per elevare a potenza il 2:\"))\n",
    "esponente = 0\n",
    "while esponente < N:\n",
    "    potenza = 2 ** esponente\n",
    "    print(base, \"^\", esponente, \"=\",potenza)\n",
    "    esponente = esponente + 1\n"
   ]
  },
  {
   "cell_type": "code",
   "execution_count": 5,
   "id": "2eb8e325-4411-46d9-9863-c2c9c2b5c729",
   "metadata": {},
   "outputs": [
    {
     "name": "stdout",
     "output_type": "stream",
     "text": [
      "1\n",
      "2\n",
      "4\n",
      "8\n",
      "16\n",
      "32\n",
      "64\n",
      "128\n",
      "256\n",
      "512\n",
      "1024\n",
      "2048\n",
      "4096\n",
      "8192\n",
      "16384\n"
     ]
    }
   ],
   "source": [
    "#Esercizio 5: Calcolare e stampare tutte le potenze di 2 minori di 25000.\n",
    "\n",
    "base = 2\n",
    "esponente = 0\n",
    "while base ** esponente < 25000:\n",
    "    potenza = base ** esponente\n",
    "    print(potenza)\n",
    "    esponente += 1\n",
    "    "
   ]
  },
  {
   "cell_type": "code",
   "execution_count": 6,
   "id": "1ced88ed-1830-4c31-89c8-be02631ad18d",
   "metadata": {},
   "outputs": [
    {
     "name": "stdin",
     "output_type": "stream",
     "text": [
      "Inserire una parola dizionario\n"
     ]
    },
    {
     "name": "stdout",
     "output_type": "stream",
     "text": [
      "diz...rio\n"
     ]
    }
   ],
   "source": [
    "#Esercizio 6: Scriviamo un programma che chiede in input all'utente una stringa e visualizza i primi 3 caratteri, \n",
    "#seguiti da 3 punti di sospensione e quindi gli ultimi 3 caratteri, similmente all'esercizio della lezione scorsa. \n",
    "#Stavolta facciamo attenzione a tutti i casi particolari, ovvero implementare soluzioni ad hoc per stringhe di lunghezza inferiore a 6 caratteri.\n",
    "\n",
    "stringa = input(\"Inserire una parola\")\n",
    "if len(stringa) > 6:\n",
    "    print(stringa[:3] + \"...\" + stringa[-3:])\n",
    "elif 3 < len(stringa) < 6:\n",
    "    print(stringa[:1] + \"...\" + stringa[-1:])\n",
    "else:\n",
    "    print(stringa)"
   ]
  },
  {
   "cell_type": "code",
   "execution_count": 7,
   "id": "9966892d-de5f-43c4-a534-89a46cf58a8a",
   "metadata": {},
   "outputs": [
    {
     "name": "stdin",
     "output_type": "stream",
     "text": [
      "Inserisci un numero: 150\n"
     ]
    },
    {
     "name": "stdout",
     "output_type": "stream",
     "text": [
      "Divisore:  2\n",
      "Divisore:  3\n",
      "Divisore:  5\n",
      "Divisore:  5\n"
     ]
    }
   ],
   "source": [
    "#Esercizio 7: Memorizza e stampa tutti i fattori di un numero dato in input \n",
    "#(cioè tutti i numeri primi che, moltiplicati tra di loro, danno il numero di partenza). \n",
    "#Esempio: • input: 150 • output: [2, 3, 5, 5]\n",
    "\n",
    "numero = int(input(\"Inserisci un numero:\"))\n",
    "divisore = 2\n",
    "while numero > 1:\n",
    "    if numero % divisore == 0:\n",
    "        print(\"Divisore: \", divisore)\n",
    "        numero = numero // divisore\n",
    "    else:\n",
    "        divisore += 1"
   ]
  },
  {
   "cell_type": "code",
   "execution_count": 10,
   "id": "f2071599-992c-4a1c-88e6-89a299319add",
   "metadata": {},
   "outputs": [
    {
     "name": "stdout",
     "output_type": "stream",
     "text": [
      "E\n",
      "p\n",
      "i\n",
      "c\n",
      "o\n",
      "d\n",
      "e\n"
     ]
    }
   ],
   "source": [
    "#Esercizio 8: Abbiamo la stringa: nome_scuola = \"Epicode\" Stampare ogni carattere della stringa, uno su ogni riga, utilizzando un costrutto for.\n",
    "\n",
    "nome_scuola = \"Epicode\"\n",
    "for lettera in nome_scuola:\n",
    "    print(lettera)"
   ]
  },
  {
   "cell_type": "code",
   "execution_count": 25,
   "id": "8cd7129e-b31c-4a86-b661-c5106abb949a",
   "metadata": {},
   "outputs": [
    {
     "name": "stdout",
     "output_type": "stream",
     "text": [
      "2 ^ 0 = 1\n",
      "2 ^ 1 = 2\n",
      "2 ^ 2 = 4\n",
      "2 ^ 3 = 8\n",
      "2 ^ 4 = 16\n",
      "2 ^ 5 = 32\n",
      "2 ^ 6 = 64\n",
      "2 ^ 7 = 128\n",
      "2 ^ 8 = 256\n",
      "2 ^ 9 = 512\n"
     ]
    }
   ],
   "source": [
    "#Esercizio 9: Calcolare e stampare tutte le prime 10 potenze di 2 utilizzando un ciclo.\n",
    "#Per eseguire un certo numero di volte un ciclo si può utilizzare la funzione built-in range(), ad esempio: for numero in range(5): print(numero) 0 1 2 3 4\n",
    "\n",
    "for esponente in range(10):\n",
    "    print(2,\"^\",esponente, \"=\", 2 ** esponente)"
   ]
  },
  {
   "cell_type": "code",
   "execution_count": 40,
   "id": "3a443eb8-b3e6-48ac-a781-4c8bcef9f073",
   "metadata": {},
   "outputs": [
    {
     "name": "stdin",
     "output_type": "stream",
     "text": [
      "Dammi il valore di N (quante potenze calcolare):  5\n",
      "Scrivi un numero da elevare a potenza:  6\n"
     ]
    },
    {
     "name": "stdout",
     "output_type": "stream",
     "text": [
      "[1, 6, 36, 216, 1296]\n"
     ]
    }
   ],
   "source": [
    "#Esercizio 10: Calcolare le prime N potenze di K; ognuna di esse andrà memorizzata in coda a una lista. \n",
    "#Alla fine, stampare la lista risultante. Proviamo con diversi valori di K, oppure facciamola inserire all'utente. \n",
    "#Realizzare due versioni: • con un ciclo while, • con un ciclo for.\n",
    "\n",
    "N = int(input(\"Dammi il valore di N (quante potenze calcolare): \"))\n",
    "K = int(input(\"Scrivi un numero da elevare a potenza: \"))\n",
    "\n",
    "potenze = []\n",
    "\n",
    "#variante ciclo 'WHILE'\n",
    "esponente = 0\n",
    "while esponente < N:\n",
    "    risultato = K ** esponente\n",
    "    potenze.append(risultato)\n",
    "    esponente += 1\n",
    "\n",
    "#variante ciclo 'FLOR'\n",
    "for esponente in range(N):\n",
    "    #potenze.append(risultato)\n",
    "    risultato = K ** esponente\n",
    "    \n",
    "print(potenze)\n"
   ]
  },
  {
   "cell_type": "code",
   "execution_count": 47,
   "id": "d467d721-c1b0-46e3-aca5-6a01844f20f8",
   "metadata": {},
   "outputs": [
    {
     "name": "stdout",
     "output_type": "stream",
     "text": [
      "La media di questa lista è:  70.0\n"
     ]
    }
   ],
   "source": [
    "#Esercizio 11: Abbiamo una lista con i guadagni degli ultimi 12 mesi.\n",
    "#usando un costrutto for, calcolare la media dei guadagni e stamparla a video.\n",
    "\n",
    "guadagni = [100, 90, 70, 40, 50, 80, 90, 120, 80, 20, 50, 50]\n",
    "somma = 0\n",
    "for valore in guadagni:\n",
    "    somma += valore\n",
    "\n",
    "media = somma/len(guadagni)\n",
    "print(\"La media di questa lista è: \", media)\n",
    "    "
   ]
  },
  {
   "cell_type": "code",
   "execution_count": 84,
   "id": "42d4642d-be46-4554-b233-c4ac6eb77330",
   "metadata": {},
   "outputs": [
    {
     "name": "stdout",
     "output_type": "stream",
     "text": [
      "Albergo: 1\n",
      "Sedia: 1\n",
      "Borgo: 0\n",
      "Petalo: 1\n",
      "Eremo: 1\n",
      "Belvedere: 4\n",
      "Semestre: 3\n",
      "Esteta: 1\n",
      "Sosta: 0\n",
      "Orpello: 1\n",
      "Abete: 2\n",
      "Orologio: 0\n",
      "Cesta: 1\n",
      "Ermellino: 1\n"
     ]
    }
   ],
   "source": [
    "#Esercizio 12: Abbiamo una lista di parole. \n",
    "#stampiamo, per ogni parola, quante volte appare la lettera \"e\"; facciamo attenzione al fatto che appare sia maiuscola che minuscola.\n",
    "\n",
    "parole = [\"Albergo\", \"Sedia\", \"Borgo\", \"Petalo\", \"Eremo\", \"Belvedere\", \"Semestre\", \"Esteta\", \"Sosta\", \"Orpello\", \"Abete\", \"Orologio\", \"Cesta\", \"Ermellino\"]\n",
    "\n",
    "for parola in parole:\n",
    "    parola.lower()\n",
    "    conta_e = parola.count(\"e\")\n",
    "    print(f\"{parola}: {conta_e}\")\n",
    "  "
   ]
  },
  {
   "cell_type": "code",
   "execution_count": 88,
   "id": "97235dcb-35a1-4801-9823-e99a61e5e458",
   "metadata": {},
   "outputs": [
    {
     "name": "stdout",
     "output_type": "stream",
     "text": [
      "{'Ada': 'Punto', 'Ben': 'Multipla', 'Charlie': 'Golf', 'Debbie': '107'}\n",
      "107\n"
     ]
    }
   ],
   "source": [
    "#Esercizio 13: Creiamo un dizionario che assegni ad ogni proprietario la sua auto, sapendo che: \n",
    "#• Ada guida una Punto \n",
    "#• Ben guida una Multipla \n",
    "#• Charlie guida una Golf \n",
    "#• Debbie guida una 107 \n",
    "#Stampiamo il dizionario per intero, e poi l'auto associata a Debbie.\n",
    "\n",
    "auto = {\"Ada\":\"Punto\", \"Ben\":\"Multipla\", \"Charlie\":\"Golf\", \"Debbie\":\"107\"}\n",
    "print(auto)\n",
    "print(auto[\"Debbie\"])\n"
   ]
  },
  {
   "cell_type": "code",
   "execution_count": 92,
   "id": "2f0f4d01-53f1-4d77-a313-1cd4a90c2b42",
   "metadata": {},
   "outputs": [
    {
     "name": "stdout",
     "output_type": "stream",
     "text": [
      "Punto\n",
      "Golf\n",
      "107\n"
     ]
    }
   ],
   "source": [
    "#Esercizio 14: Abbiamo un dizionario che assegna ad ogni proprietario la sua auto. \n",
    "#Con un ciclo, e usando il metodo .values(), stampiamo a video tutte le auto che non sono una Multipla.\n",
    "\n",
    "dizionario_auto = {\"Ada\": \"Punto\", \"Ben\": \"Multipla\", \"Charlie\": \"Golf\", \"Debbie\": \"107\"}\n",
    "for auto in dizionario_auto.values():\n",
    "    if auto != \"Multipla\":\n",
    "        print(auto)"
   ]
  },
  {
   "cell_type": "code",
   "execution_count": 93,
   "id": "260d6d6f-c9ea-4d2e-ac69-e635f9190755",
   "metadata": {},
   "outputs": [
    {
     "name": "stdout",
     "output_type": "stream",
     "text": [
      "{'Ada': 'Punto', 'Ben': 'Polo', 'Charlie': 'Golf', 'Debbie': '107', 'Emily': 'A1', 'Fred': 'Octavia', 'Grace': 'Yaris', 'Hugh': 'Clio'}\n"
     ]
    }
   ],
   "source": [
    "#Esercizio 15: Abbiamo due dizionari che assegnano ad ogni proprietario la propria auto.\n",
    "#Aggiornare il dizionario dizionario_auto con i dati contenuti in nuovi_proprietari e stamparlo. Cosa è successo a Ben?\n",
    "\n",
    "dizionario_auto = {\"Ada\": \"Punto\", \"Ben\": \"Multipla\", \"Charlie\": \"Golf\", \"Debbie\": \"107\", \"Emily\": \"A1\"}\n",
    "nuovi_proprietari = {\"Ben\": \"Polo\", \"Fred\": \"Octavia\", \"Grace\": \"Yaris\", \"Hugh\": \"Clio\"}\n",
    "\n",
    "dizionario_auto.update(nuovi_proprietari)\n",
    "print(dizionario_auto)\n",
    "\n",
    "#il valore di Ben viene modificato con Polo"
   ]
  },
  {
   "cell_type": "code",
   "execution_count": null,
   "id": "0459429f-160c-424f-9ee8-614b514315bb",
   "metadata": {},
   "outputs": [],
   "source": []
  }
 ],
 "metadata": {
  "kernelspec": {
   "display_name": "Python [conda env:base] *",
   "language": "python",
   "name": "conda-base-py"
  },
  "language_info": {
   "codemirror_mode": {
    "name": "ipython",
    "version": 3
   },
   "file_extension": ".py",
   "mimetype": "text/x-python",
   "name": "python",
   "nbconvert_exporter": "python",
   "pygments_lexer": "ipython3",
   "version": "3.12.7"
  }
 },
 "nbformat": 4,
 "nbformat_minor": 5
}
