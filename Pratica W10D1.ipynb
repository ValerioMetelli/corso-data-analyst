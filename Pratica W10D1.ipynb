{
 "cells": [
  {
   "cell_type": "code",
   "execution_count": 123,
   "id": "7cf60398-e706-4635-b86f-a7bf13d477c8",
   "metadata": {},
   "outputs": [
    {
     "data": {
      "text/plain": [
       "array([[ 0,  1,  2,  3,  4],\n",
       "       [ 5,  6,  7,  8,  9],\n",
       "       [10, 11, 12, 13, 14]])"
      ]
     },
     "execution_count": 123,
     "metadata": {},
     "output_type": "execute_result"
    }
   ],
   "source": [
    "#Esercizio 1: Che tipo di struttura dati o matematica potrebbe rappresentare? \n",
    "#Come facciamo per accedere ad un elemento in particolare?\n",
    "\n",
    "import numpy as np\n",
    "mat = [[0, 1, 2, 3, 4], [5, 6, 7, 8, 9], [10, 11, 12, 13, 14]] #è una matrice con 3 righe e 5 colonne\n",
    "mat_np = np.array(mat)\n",
    "\n",
    "mat_np"
   ]
  },
  {
   "cell_type": "code",
   "execution_count": 7,
   "id": "1cd543f2-28e9-4eb2-bc7a-31b4584f2153",
   "metadata": {},
   "outputs": [
    {
     "name": "stdout",
     "output_type": "stream",
     "text": [
      "7\n"
     ]
    }
   ],
   "source": [
    "#Per accedere ad un elemento in particolare:\n",
    "print(mat_np[1,2])"
   ]
  },
  {
   "cell_type": "code",
   "execution_count": 13,
   "id": "9b258c12-2aed-447e-b31f-1d137078f3de",
   "metadata": {},
   "outputs": [
    {
     "name": "stdout",
     "output_type": "stream",
     "text": [
      "-0.9589242746631385\n",
      "0.6333192030862999\n",
      "24\n",
      "3.141592653589793\n"
     ]
    }
   ],
   "source": [
    "#Esercizio 2: Importiamo il modulo math e proviamo a usare le funzioni .sin() .cos() .factorial() e la variabile .pi la riconoscete?\n",
    "import math\n",
    "print(math.sin(5))\n",
    "print(math.cos(70))\n",
    "print(math.factorial(4))\n",
    "print(math.pi) #pigreco"
   ]
  },
  {
   "cell_type": "code",
   "execution_count": 17,
   "id": "a70c1dc4-e72e-4810-b24c-91e44c91ad8d",
   "metadata": {},
   "outputs": [
    {
     "name": "stdout",
     "output_type": "stream",
     "text": [
      "Help on built-in function degrees in module math:\n",
      "\n",
      "degrees(x, /)\n",
      "    Convert angle x from radians to degrees.\n",
      "\n"
     ]
    }
   ],
   "source": [
    "#Esercizio 3: Proviamo a eseguire math.degrees(math.pi) Qual è e cosa significa il risultato? \n",
    "\n",
    "math.degrees(math.pi) #Il risultato è 180 e significa che π radianti corrispondono a 180 gradi (serve a convertire radianti in gradi)\n",
    "\n"
   ]
  },
  {
   "cell_type": "code",
   "execution_count": 30,
   "id": "6ed5a435-58aa-4c7c-94cd-071f224a22d8",
   "metadata": {},
   "outputs": [
    {
     "name": "stdout",
     "output_type": "stream",
     "text": [
      "8150\n",
      "1280\n",
      "[5500 7200 6410 8150 7100 5350] 6\n",
      "[2000 1280 1900 2500]\n"
     ]
    },
    {
     "data": {
      "text/plain": [
       "4634.166666666667"
      ]
     },
     "execution_count": 30,
     "metadata": {},
     "output_type": "execute_result"
    }
   ],
   "source": [
    "#Esercizio 3: L'azienda Object SpA ha creato una lista di quanti oggetti ha venduto ogni mese nell'ultimo anno.\n",
    "#Rispondiamo alle domande del CEO della Object SpA: \n",
    "#• qual è stata la vendita massima mensile? E quella minima? \n",
    "#• quali sono le vendite mensili maggiori di 4999 oggetti? E quante ne sono? \n",
    "#• quali sono le vendite minori di 3000 oggetti?\n",
    "#• in media quanti oggetti sono stati venduti al mese?\n",
    "\n",
    "lst = [2000, 5500, 7200, 4320, 1280, 1900, 2500, 3900, 6410, 8150, 7100, 5350] \n",
    "vendite = np.array(lst)\n",
    "\n",
    "print(vendite.max()) #vendita massima mensile\n",
    "print(vendite.min()) #vendita minima mensile\n",
    "\n",
    "filtro_1 = vendite > 4999\n",
    "print(vendite[filtro_1], len(vendite[filtro_1])) #vendite mensili >4999 e quante sono\n",
    "\n",
    "filtro_2 = vendite < 3000\n",
    "print(vendite[filtro_2]) #vendite mensili <3000\n",
    "\n",
    "vendite.mean() #vendite medie"
   ]
  },
  {
   "cell_type": "code",
   "execution_count": 125,
   "id": "5db8cd6e-4a64-4410-bc4a-10ca6d9e8be3",
   "metadata": {},
   "outputs": [],
   "source": [
    "#Esercizio 4: Possiamo accedere alle stesse informazioni nello stesso modo: fatturati_dict[1997] fatturati_series[1997] \n",
    "#Dunque qual è la differenza tra i due tipi di dato? \n",
    "#Cosa potremmo fare con la Series che non possiamo fare con il dizionario?\n",
    "\n",
    "import pandas as pd\n",
    "\n",
    "fatturati_dict = {1997: 12_000, 1998: 15_000, 1999: 20_000, 2000: 23_000, 2001: 25_000, 2002: 17_000, 2003: 14_000, 2004: 21_000}\n",
    "fatturati_series = pd.Series([12_000, 15_000, 20_000, 23_000, 25_000, 17_000, 14_000, 21_000], index=range(1997, 2005))"
   ]
  },
  {
   "cell_type": "raw",
   "id": "9a49d69c-9ed8-4c1c-8c74-3428c6ce8a3f",
   "metadata": {},
   "source": [
    "1. Il dizionario è una semplice struttura chiave-valore per memorizzare e accedere ai dati, mentre la Series pandas è un array ordinato con etichette che combina la funzionalità di un dizionario con le operazioni matematiche degli array NumPy.\n",
    "2. Con la Series possiamo eseguire operazioni matematiche su tutti i valori contemporaneamente, applicare filtri con masking, e utilizzare tutte le funzioni di analisi dati che pandas offre, mentre il dizionario permette solo l'accesso individuale ai singoli elementi."
   ]
  },
  {
   "cell_type": "code",
   "execution_count": 43,
   "id": "b56b6120-bb5e-4945-963b-cde4009cb811",
   "metadata": {},
   "outputs": [
    {
     "name": "stdout",
     "output_type": "stream",
     "text": [
      "[ 200  400  600  800 1000 1200 1400 1600 1800 2000]\n",
      "[200, 400, 600, 800, 1000, 1200, 1400, 1600, 1800, 2000]\n"
     ]
    }
   ],
   "source": [
    "#Esercizio 5: L'azienda Object SpA ha un dataset con tutti gli stipendi dei dipendenti, memorizzato in un ndarray.  \n",
    "#L'azienda ci chiede di raddoppiare tutti gli stipendi; facciamolo in due modi: •con un ciclo for •con il masking\n",
    "\n",
    "import numpy as np \n",
    "stipendi = np.array( [100, 200, 300, 400, 500,  600, 700, 800, 900, 1000] )\n",
    "\n",
    "print(stipendi * 2) #raddoppio gli sitpendi con il masking\n",
    "\n",
    "stipendi_doppi = []\n",
    "for stipendio in stipendi:  \n",
    "    doppio = stipendio * 2  #raddoppio gli stipendi con ciclo for\n",
    "    stipendi_doppi.append(doppio)\n",
    "print(stipendi_doppi)"
   ]
  },
  {
   "cell_type": "code",
   "execution_count": 56,
   "id": "f2c12d61-c58c-42f1-a396-a9e363107949",
   "metadata": {},
   "outputs": [
    {
     "name": "stdout",
     "output_type": "stream",
     "text": [
      "[100, 60, 40]\n",
      "[85, 12]\n",
      "[100, 100, 100]\n"
     ]
    }
   ],
   "source": [
    "#Esercizio 6: Scrivere un programma che, data una lista di numeri, fornisca in output i tre numeri più grandi;\n",
    "#gestire il caso in cui la lista sia più corta di tre, e quando uno o più dei numeri selezionati sono uguali.\n",
    "\n",
    "lista = [20, 40, 60, 40, 100, 10] #lista con valori tutti diversi\n",
    "lista.sort(reverse = True)\n",
    "print(lista[0:3])\n",
    "\n",
    "lista2 = [85, 12]\n",
    "lista2.sort(reverse = True) #lista con meno di 3 valori\n",
    "print(lista2[0:3])\n",
    "\n",
    "lista3 = [100, 50, 100, 30, 100, 75] #lista con numeri uguali\n",
    "lista3.sort(reverse = True)\n",
    "print(lista3[0:3])"
   ]
  },
  {
   "cell_type": "code",
   "execution_count": 66,
   "id": "c654b1de-6d13-4b4a-8a01-9cc3c0198c69",
   "metadata": {},
   "outputs": [
    {
     "name": "stdin",
     "output_type": "stream",
     "text": [
      "Inserisci K:  30\n"
     ]
    },
    {
     "name": "stdout",
     "output_type": "stream",
     "text": [
      "Non ci sono valori maggiori o uguali a 30\n"
     ]
    }
   ],
   "source": [
    "#Esercizio 7: Scrivere un programma che \n",
    "#• in input acquisisce una lista di numeri e un numero K \n",
    "#• in output, dovrà restituire la media di tutti i numeri nella lista maggiori o uguali a K \n",
    "#• se non ce ne dovesse essere nessuno, dovrà stampare a schermo un messaggio adeguato.\n",
    "\n",
    "import numpy as np \n",
    "numeri = np.array([12, 3, 18, 7, 25, 9, 14, 6, 20, 4])\n",
    "K = int(input(\"Inserisci K: \"))\n",
    "\n",
    "numeri_filtrati = numeri[numeri >= K]\n",
    "if len(numeri_filtrati) == 0:\n",
    "    print(\"Non ci sono valori maggiori o uguali a\", K)\n",
    "else:\n",
    "    print(\"La media è: \", numeri_filtrati.mean())"
   ]
  },
  {
   "cell_type": "code",
   "execution_count": 69,
   "id": "6811ad19-64e1-4d39-a962-3c94df077e67",
   "metadata": {},
   "outputs": [
    {
     "name": "stdout",
     "output_type": "stream",
     "text": [
      "10 = **********\n",
      "5 = *****\n",
      "8 = ********\n",
      "2 = **\n",
      "12 = ************\n",
      "1 = *\n",
      "6 = ******\n"
     ]
    }
   ],
   "source": [
    "#Esercizio 8: Scrivere un programma che, data una lista di numeri, come output stamperà lo stesso numero di asterischi su righe diverse, \n",
    "#ottenendo una semplice visualizzazione grafica.\n",
    "\n",
    "numeri = [10, 5, 8, 2, 12, 1, 6]\n",
    "for numero in numeri:\n",
    "          print(numero, \"=\", \"*\" * numero)"
   ]
  },
  {
   "cell_type": "code",
   "execution_count": 94,
   "id": "1bcf8066-5edd-4d56-bf36-adbcb816e08d",
   "metadata": {},
   "outputs": [
    {
     "name": "stdout",
     "output_type": "stream",
     "text": [
      "['ABCDEF95G01A123B', 'STUVWX95Z04A654E', 'DEFGHI95J06A987G']\n",
      "ABCDEF95G01A123B - Cognome: ABC Nome: DEF\n",
      "STUVWX95Z04A654E - Cognome: STU Nome: VWX\n",
      "DEFGHI95J06A987G - Cognome: DEF Nome: GHI\n"
     ]
    }
   ],
   "source": [
    "#Esercizio 9: Trovare i codici fiscali che contengono \"95\", metterli in una lista, e alla fine stamparla; \n",
    "#• inoltre, per ognuno di essi, stampare a video i caratteri relativi al nome e quelli relativi al cognome.\n",
    "\n",
    "lista_cf = [\"ABCDEF95G01A123B\", \"GHIJKL91M02A321C\", \"MNOPQR89S03A456D\", \"STUVWX95Z04A654E\", \"XYZABC01D05A789F\", \"DEFGHI95J06A987G\"]\n",
    "cf_95 = []\n",
    "\n",
    "for cf in lista_cf:\n",
    "    if \"95\" in cf:\n",
    "        cf_95.append(cf)\n",
    "print(cf_95)\n",
    "\n",
    "for cf95 in cf_95:\n",
    "    cognome = cf95[0:3]\n",
    "    nome = cf95[3:6]\n",
    "    print(cf95, \"-\", \"Cognome:\", cognome, \"Nome:\", nome)"
   ]
  },
  {
   "cell_type": "code",
   "execution_count": 92,
   "id": "c60c057e-0bb2-4b6e-b7e3-6d286671cf8e",
   "metadata": {},
   "outputs": [
    {
     "name": "stdout",
     "output_type": "stream",
     "text": [
      "Alex\n",
      "Faith\n"
     ]
    }
   ],
   "source": [
    "#Esercizio 10: Abbiamo tre liste della stessa lunghezza, dove ogni elemento nella medesima posizione si riferisce ai dati dello stesso studente: \n",
    "#• Stampare a video tutti e solo gli studenti che frequentano una prima edizione; non tutti i dati potrebbero essere necessari.\n",
    "\n",
    "studenti = [\"Alex\", \"Bob\", \"Cindy\", \"Dan\", \"Emma\", \"Faith\", \"Grace\", \"Henry\"] \n",
    "corsi = [\"Cybersecurity\", \"Data Analyst\", \"Backend\", \"Frontend\", \"Data Analyst\", \"Backend\", \"Frontend\", \"Cybersecurity\"] \n",
    "edizioni = [1, 2, 3, 2, 2, 1, 3, 3]\n",
    "\n",
    "studenti_edizioni = {}\n",
    "for i in range(len(studenti)):\n",
    "    studenti_edizioni[studenti[i]]=edizioni[i]\n",
    "\n",
    "for studenti, edizioni in studenti_edizioni.items():\n",
    "    if edizioni == 1:\n",
    "        print(studenti)\n",
    "\n",
    "\n"
   ]
  },
  {
   "cell_type": "code",
   "execution_count": 99,
   "id": "2bbd2448-1e4c-421c-a64c-8391efae2e48",
   "metadata": {},
   "outputs": [
    {
     "name": "stdout",
     "output_type": "stream",
     "text": [
      "['100 $', '200 $', '500 $', '10 $', '50 $', '70 $']\n"
     ]
    }
   ],
   "source": [
    "#Esercizio 11: Abbiamo una lista di stringhe di prezzi in dollari, che erroneamente sono stati scritti con il simbolo dell'euro.\n",
    "#Cambiare il simbolo dell'euro (€) in quello del dollaro ($) per ogni stringa nella lista; il risultato sarà memorizzato in un'altra lista.\n",
    "\n",
    "prezzi = [\"100 €\", \"200 €\", \"500 €\", \"10 €\", \"50 €\", \"70 €\"]\n",
    "prezzi_dollaro = []\n",
    "\n",
    "for prezzo in prezzi:\n",
    "    prezzo_dollaro = prezzo.replace(\"€\", \"$\")\n",
    "    prezzi_dollaro.append(prezzo_dollaro)\n",
    "\n",
    "print(prezzi_dollaro)"
   ]
  },
  {
   "cell_type": "code",
   "execution_count": 106,
   "id": "2ddd6527-a37e-4b3e-857c-c107ff47365f",
   "metadata": {},
   "outputs": [
    {
     "name": "stdout",
     "output_type": "stream",
     "text": [
      "Squadra A:  ['Alex', 'Cindy', 'Emma', 'Grace', 'Isabelle']\n",
      "Squadra B:  ['Bob', 'Dan', 'Faith', 'Henry', 'John']\n"
     ]
    }
   ],
   "source": [
    "#Esercizio 12: Abbiamo una lista di studenti. Vogliamo dividere gli studenti in due squadre per un campionato di Uno nel seguente modo: \n",
    "#selezioneremo i nomi in posizione pari per un squadra, e i nomi in posizione dispari per l'altra. \n",
    "#Creiamo due liste per ogni squadra, e alla fine visualizziamole.\n",
    "\n",
    "studenti = [\"Alex\", \"Bob\", \"Cindy\", \"Dan\", \"Emma\", \"Faith\", \"Grace\", \"Henry\", \"Isabelle\", \"John\"]\n",
    "pari = studenti[0::2]\n",
    "dispari = studenti[1::2]\n",
    "\n",
    "print(\"Squadra A: \", pari)\n",
    "print(\"Squadra B: \", dispari)\n"
   ]
  },
  {
   "cell_type": "code",
   "execution_count": 126,
   "id": "5b01627a-5945-4a49-9a8b-e7cdeb61dba8",
   "metadata": {},
   "outputs": [
    {
     "name": "stdout",
     "output_type": "stream",
     "text": [
      "Mese 1 100 €\n",
      "Mese 2 90 € media prec:  100.0 € - il guadagno attuale è minore\n",
      "Mese 3 70 € media prec:  95.0 € - il guadagno attuale è minore\n",
      "Mese 4 40 € media prec:  86.66666666666667 € - il guadagno attuale è minore\n",
      "Mese 5 50 € media prec:  75.0 € - il guadagno attuale è minore\n",
      "Mese 6 80 € media prec:  70.0 € - il guadagno attuale è maggiore\n",
      "Mese 7 90 € media prec:  71.66666666666667 € - il guadagno attuale è maggiore\n",
      "Mese 8 120 € media prec:  74.28571428571429 € - il guadagno attuale è maggiore\n",
      "Mese 9 80 € media prec:  80.0 € - il guadagno attuale è uguale\n",
      "Mese 10 20 € media prec:  80.0 € - il guadagno attuale è minore\n",
      "Mese 11 50 € media prec:  74.0 € - il guadagno attuale è minore\n",
      "Mese 12 50 € media prec:  71.81818181818181 € - il guadagno attuale è minore\n"
     ]
    }
   ],
   "source": [
    "#Esercizio 13: Abbiamo una lista con i guadagni degli ultimi 12 mesi (supponiamo da Gennaio a Dicembre).\n",
    "#Dobbiamo confrontare, stampando tutto a video, il guadagno di ogni mese con la media dei guadagni precedenti, \n",
    "#e specificare nell'output se il guadagno attuale è maggiore o minore della media dei precedenti. \n",
    "#Esempio di un possibile output: \n",
    "#Mese 1: 100 € \n",
    "#Mese 2: 90 € (media prec: 100 € - il guadagno attuale è minore) \n",
    "#Mese 3: 70 € (media prec: 95 € - il guadagno attuale è minore)\n",
    "\n",
    "import numpy as np\n",
    "guadagni = np.array([100, 90, 70, 40, 50, 80, 90, 120, 80, 20, 50, 50])\n",
    "\n",
    "for i in range(len(guadagni)):\n",
    "    guadagno_attuale = guadagni[i]\n",
    "\n",
    "    if i == 0:\n",
    "        print(\"Mese\", i+1, guadagno_attuale, \"€\")\n",
    "    else:\n",
    "        precedenti = guadagni[0:i]\n",
    "        media_precedenti = precedenti.mean()\n",
    "        #print(\"Mese\", i+1, guadagno_attuale, \"€\", \"media prec: \", media_precedenti,\"€\")\n",
    "        if guadagno_attuale > media_precedenti:\n",
    "            print(\"Mese\", i+1, guadagno_attuale, \"€\", \"media prec: \", media_precedenti,\"€\", \"- il guadagno attuale è maggiore\")\n",
    "        elif guadagno_attuale == precedenti.mean():\n",
    "            print(\"Mese\", i+1, guadagno_attuale, \"€\", \"media prec: \", media_precedenti,\"€\", \"- il guadagno attuale è uguale\")\n",
    "        else:\n",
    "            print(\"Mese\", i+1, guadagno_attuale, \"€\", \"media prec: \", media_precedenti,\"€\", \"- il guadagno attuale è minore\")\n",
    "\n",
    "\n",
    "    \n",
    "   \n"
   ]
  },
  {
   "cell_type": "code",
   "execution_count": null,
   "id": "5ef863f8-4423-454f-87cd-8d2add892da7",
   "metadata": {},
   "outputs": [],
   "source": []
  }
 ],
 "metadata": {
  "kernelspec": {
   "display_name": "Python [conda env:base] *",
   "language": "python",
   "name": "conda-base-py"
  },
  "language_info": {
   "codemirror_mode": {
    "name": "ipython",
    "version": 3
   },
   "file_extension": ".py",
   "mimetype": "text/x-python",
   "name": "python",
   "nbconvert_exporter": "python",
   "pygments_lexer": "ipython3",
   "version": "3.12.7"
  }
 },
 "nbformat": 4,
 "nbformat_minor": 5
}
