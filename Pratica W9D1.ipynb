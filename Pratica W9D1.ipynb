{
 "cells": [
  {
   "cell_type": "code",
   "execution_count": 1,
   "id": "42474216-6ae9-4465-a230-4eb7efb8ef32",
   "metadata": {},
   "outputs": [
    {
     "name": "stdout",
     "output_type": "stream",
     "text": [
      "25\n"
     ]
    }
   ],
   "source": [
    "studenti = 25\n",
    "print(studenti)"
   ]
  },
  {
   "cell_type": "code",
   "execution_count": 2,
   "id": "86b076e6-3dd3-4ce6-8809-ac0e2c10425c",
   "metadata": {},
   "outputs": [
    {
     "name": "stdout",
     "output_type": "stream",
     "text": [
      "28\n"
     ]
    }
   ],
   "source": [
    "studenti_extra = 3\n",
    "totale = studenti + studenti_extra\n",
    "print(totale)"
   ]
  },
  {
   "cell_type": "code",
   "execution_count": 3,
   "id": "e9dfc672-7755-4dbc-9c00-f597fd4d7a6c",
   "metadata": {},
   "outputs": [
    {
     "name": "stdout",
     "output_type": "stream",
     "text": [
      "Epicode\n"
     ]
    }
   ],
   "source": [
    "#Creare una variabile che contiene la stringa \"Epicode\", quindi stamparla a video.\n",
    "scuola = \"Epicode\"\n",
    "print(scuola)\n"
   ]
  },
  {
   "cell_type": "code",
   "execution_count": 4,
   "id": "7fdfd17f-4d8e-4b24-a86b-56854b2c8c89",
   "metadata": {},
   "outputs": [
    {
     "name": "stdout",
     "output_type": "stream",
     "text": [
      "36\n"
     ]
    }
   ],
   "source": [
    "#Abbiamo la variabile: x = 10 Incrementarla di 2 e poi moltiplicarla per 3\n",
    "x = 10\n",
    "totale = (x+2)*3\n",
    "print(totale)"
   ]
  },
  {
   "cell_type": "code",
   "execution_count": 5,
   "id": "99dc3044-d8cc-476e-be3c-9771672ba502",
   "metadata": {},
   "outputs": [
    {
     "name": "stdout",
     "output_type": "stream",
     "text": [
      "7\n",
      "5\n",
      "10\n",
      "4\n"
     ]
    }
   ],
   "source": [
    "#Creiamo le seguenti stringhe, e per ognuna di esse verifichiamone la lunghezza: \n",
    "#• str1 = \"Windows\" • str2 = \"Excel\" • str3 = \"Powerpoint\" • str4 = \"Word\"\n",
    "str1 = \"Windows\"\n",
    "str2 = \"Excel\"\n",
    "str3 = \"Powerpoint\"\n",
    "str4 = \"Word\"\n",
    "print(len(str1))\n",
    "print(len(str2))\n",
    "print(len(str3))\n",
    "print(len(str4))"
   ]
  },
  {
   "cell_type": "code",
   "execution_count": 6,
   "id": "1bb2bbf9-3d64-4e3a-8bef-6df170a2c9c0",
   "metadata": {},
   "outputs": [
    {
     "name": "stdout",
     "output_type": "stream",
     "text": [
      "31536000\n"
     ]
    }
   ],
   "source": [
    "#Calcolare e stampare a video quanti secondi ci sono in un anno non bisestile.\n",
    "giorni = 365\n",
    "ore = 24\n",
    "minuti = 60\n",
    "secondi = 60\n",
    "totale_secondi = giorni * ore * minuti * secondi\n",
    "print(totale_secondi)"
   ]
  },
  {
   "cell_type": "code",
   "execution_count": 7,
   "id": "4078c4e0-95da-41a1-b0e0-829752ba7788",
   "metadata": {},
   "outputs": [
    {
     "name": "stdout",
     "output_type": "stream",
     "text": [
      "I AM STUDYING PYTHON\n",
      "i am studying python\n",
      "I am studying a lot\n"
     ]
    }
   ],
   "source": [
    "#Abbiamo la seguente stringa: my_string = \"I am studying Python\". \n",
    "#Trasformarla in modo che tutti i caratteri siano maiuscoli (uppercase)\n",
    "#Trasformarla in modo che tutti i caratteri siano minuscoli (lowercase) \n",
    "#Sostituire la sottostringa \"Python\" con la stringa \"a lot\".\n",
    "\n",
    "my_string = \"I am studying Python\"\n",
    "maiuscolo = my_string.upper()\n",
    "minuscolo = my_string.lower()\n",
    "print(maiuscolo)\n",
    "print(minuscolo)\n",
    "new_string = my_string.replace(\"Python\", \"a lot\")\n",
    "print(new_string)"
   ]
  },
  {
   "cell_type": "code",
   "execution_count": 14,
   "id": "211d12e1-611b-44e5-8f03-01c1d6772219",
   "metadata": {},
   "outputs": [
    {
     "name": "stdout",
     "output_type": "stream",
     "text": [
      "I am studying Python\n",
      "['I', 'am', 'studying', 'Python']\n"
     ]
    }
   ],
   "source": [
    "#Usare il metodo .strip(); cambia qualcosa? Perché? \n",
    "#Usare il metodo .split() per trovare tutte le parole (token).\n",
    "\n",
    "risultato_strip = my_string.strip() #non cambia nulla perché non ho spazi ai bordi della stringa\n",
    "token = my_string.split()\n",
    "print(risultato_strip)\n",
    "print(parole)"
   ]
  },
  {
   "cell_type": "code",
   "execution_count": 20,
   "id": "c27ab51b-8978-4115-829a-b928b17fa3b9",
   "metadata": {},
   "outputs": [
    {
     "name": "stdout",
     "output_type": "stream",
     "text": [
      "['Cybersecurity', 'Data Analyst', 'Backend', 'Frontend', 'Data Analyst', 'Backend', 'Frontend', 'Cybersecurity']\n"
     ]
    }
   ],
   "source": [
    "#Tenendo conto che i dati sono in corrispondenza posizionale, leggiamo con attenzione le due liste. \n",
    "#Sapendo che Emma segue Data Analyst Faith segue Backend Grace segue Frontend Henry segue Cybersecurity alla lista cui mancano dei dati, \n",
    "#aggiungiamo i dati mancanti uno alla volta con il metodo .append().\n",
    "\n",
    "studenti = [\"Alex\", \"Bob\", \"Cindy\", \"Dan\", \"Emma\", \"Faith\", \"Grace\", \"Henry\"]\n",
    "corsi = [\"Cybersecurity\", \"Data Analyst\", \"Backend\", \"Frontend\", \"Data Analyst\", \"Backend\"]\n",
    "corsi.append(\"Frontend\")\n",
    "corsi.append(\"Cybersecurity\")\n",
    "print(corsi)"
   ]
  },
  {
   "cell_type": "code",
   "execution_count": null,
   "id": "d9147841-686a-4073-b912-f4b13903c4e8",
   "metadata": {},
   "outputs": [],
   "source": []
  },
  {
   "cell_type": "code",
   "execution_count": null,
   "id": "d9508eb5-665a-4ff6-8450-4dad8f07ff19",
   "metadata": {},
   "outputs": [],
   "source": []
  }
 ],
 "metadata": {
  "kernelspec": {
   "display_name": "Python [conda env:base] *",
   "language": "python",
   "name": "conda-base-py"
  },
  "language_info": {
   "codemirror_mode": {
    "name": "ipython",
    "version": 3
   },
   "file_extension": ".py",
   "mimetype": "text/x-python",
   "name": "python",
   "nbconvert_exporter": "python",
   "pygments_lexer": "ipython3",
   "version": "3.12.7"
  }
 },
 "nbformat": 4,
 "nbformat_minor": 5
}
